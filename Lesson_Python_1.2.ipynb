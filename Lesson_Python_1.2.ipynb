{
 "cells": [
  {
   "cell_type": "code",
   "execution_count": null,
   "metadata": {},
   "outputs": [],
   "source": [
    "'''\n",
    "№1\n",
    "\n",
    "Написать программу, которая будет складывать, вычитать, умножать или делить два числа. \n",
    "Числа и знак операции вводятся пользователем. \n",
    "После выполнения вычисления программа не должна завершаться, а должна запрашивать новые данные для вычислений. \n",
    "Завершение программы должно выполняться при вводе символа '0' в качестве знака операции.\n",
    "\n",
    "Ограничения: \n",
    "\n",
    "Постарайтесь решить задачи без использования массивов. Им будет посвящён следующий урок. \n",
    "\n",
    "'''"
   ]
  },
  {
   "cell_type": "code",
   "execution_count": 16,
   "metadata": {},
   "outputs": [
    {
     "name": "stdout",
     "output_type": "stream",
     "text": [
      "Введите первое число: 4\n",
      "Введите второе число: 5\n",
      "Введите знак умножения *, деления / или вычитания -:-\n",
      "-1\n",
      "Введите первое число: 2\n",
      "Введите второе число: 7\n",
      "Введите знак умножения *, деления / или вычитания -:*\n",
      "14\n",
      "Введите первое число: 3\n",
      "Введите второе число: 4\n",
      "Введите знак умножения *, деления / или вычитания -:0\n",
      "Конец игры\n",
      "None\n"
     ]
    }
   ],
   "source": [
    "import operator\n",
    "\n",
    "list_operators = {\n",
    "    \"-\": operator.sub,\n",
    "    \"*\": operator.mul,\n",
    "    \"/\": operator.truediv}\n",
    "\n",
    "def calculator (a, b):\n",
    "    a =  int(input(\"Введите первое число: \"))\n",
    "    b =  int(input(\"Введите второе число: \"))\n",
    "    z = input(\"Введите знак умножения *, деления / или вычитания -:\")\n",
    "    \n",
    "    if z == '0': # Пишем базовый случай рекурсии \n",
    "        print ('Конец игры')\n",
    "    else: # Рекурсивное условие \n",
    "        print (list_operators[z](a,b))\n",
    "        return (str(calculator (a, b)))\n",
    "print (calculator (a, b))"
   ]
  }
 ],
 "metadata": {
  "kernelspec": {
   "display_name": "Python 3",
   "language": "python",
   "name": "python3"
  },
  "language_info": {
   "codemirror_mode": {
    "name": "ipython",
    "version": 3
   },
   "file_extension": ".py",
   "mimetype": "text/x-python",
   "name": "python",
   "nbconvert_exporter": "python",
   "pygments_lexer": "ipython3",
   "version": "3.7.1"
  }
 },
 "nbformat": 4,
 "nbformat_minor": 2
}
