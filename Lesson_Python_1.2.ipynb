{
 "cells": [
  {
   "cell_type": "code",
   "execution_count": null,
   "metadata": {},
   "outputs": [],
   "source": [
    "'''\n",
    "Написать программу, которая будет складывать, вычитать, умножать или делить два числа. \n",
    "Числа и знак операции вводятся пользователем. \n",
    "После выполнения вычисления программа не должна завершаться, а должна запрашивать новые данные для вычислений. \n",
    "Завершение программы должно выполняться при вводе символа '0' в качестве знака операции.\n",
    "\n",
    "'''"
   ]
  },
  {
   "cell_type": "code",
   "execution_count": null,
   "metadata": {},
   "outputs": [],
   "source": [
    "a =  input(\"Введите первое число: \")\n",
    "b =  input(\"Введите второе число: \")"
   ]
  }
 ],
 "metadata": {
  "kernelspec": {
   "display_name": "Python 3",
   "language": "python",
   "name": "python3"
  },
  "language_info": {
   "codemirror_mode": {
    "name": "ipython",
    "version": 3
   },
   "file_extension": ".py",
   "mimetype": "text/x-python",
   "name": "python",
   "nbconvert_exporter": "python",
   "pygments_lexer": "ipython3",
   "version": "3.7.1"
  }
 },
 "nbformat": 4,
 "nbformat_minor": 2
}
